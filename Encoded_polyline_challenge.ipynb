{
 "cells": [
  {
   "cell_type": "markdown",
   "metadata": {},
   "source": [
    "Faced alot of issue with the Encoded polylines. These polylines will contain \"\\\\\" and Python treat it them escape character, which mean when I try to save it in dataframe or in any form all the \"\\\\\" will get replaced with \"\\\". This is a huge problem, becuase this changes the entire meaning and decoded coordinates of the encoded string. The encoded geometry should be as it is received from the API otherwise the further analysis will not be accurate. This Geometry will act as input for other APIs\n",
    "\n",
    "After alot of hit and trials, finally solved it using the \"json.dump()\" method, which dump the string in varible as it is. "
   ]
  },
  {
   "cell_type": "code",
   "execution_count": 5,
   "metadata": {},
   "outputs": [
    {
     "name": "stdout",
     "output_type": "stream",
     "text": [
      "@g\\nSg\\nSce@tXgI|Ewe@dYyg@~Zyg@~ZkQvKoOnIkb@zVwSxMsZnQsh@`\\sh@b\\wBvAom@d\n"
     ]
    }
   ],
   "source": [
    "# This is the example\n",
    "new_string = \"@g\\\\nSg\\\\nSce@tXgI|Ewe@dYyg@~Zyg@~ZkQvKoOnIkb@zVwSxMsZnQsh@`\\\\sh@b\\\\wBvAom@d\"\n",
    "\n",
    "# The saved string and print string a different\n",
    "print(new_string)"
   ]
  },
  {
   "cell_type": "markdown",
   "metadata": {},
   "source": [
    "Another way to solve it is using the raw string, so tried this approach as well. But this did not work with saving the values of JSON received from API, \"\\\\\" were still getting replaced with \"\\\" when reading the reponse from the API request."
   ]
  },
  {
   "cell_type": "code",
   "execution_count": null,
   "metadata": {},
   "outputs": [],
   "source": [
    "new_string = r\"@g\\\\nSg\\\\nSce@tXgI|Ewe@dYyg@~Zyg@~ZkQvKoOnIkb@zVwSxMsZnQsh@`\\\\sh@b\\\\wBvAom@d\" \n",
    "print(new_string)\n",
    "\n",
    "# Assuming routing_API_data['routes'][0]['geometry'] contains \"\\\\\" characters\n",
    "geometry_raw = r\"{}\".format(routing_API_data['routes'][0]['geometry'])\n",
    "\n",
    "# Assigning the raw string representation to the DataFrame\n",
    "input_from_client.loc[index, 'New_Driving_Geometry'] = geometry_raw"
   ]
  },
  {
   "cell_type": "markdown",
   "metadata": {},
   "source": [
    "Finally this is the approach that worked"
   ]
  },
  {
   "cell_type": "code",
   "execution_count": 1,
   "metadata": {},
   "outputs": [],
   "source": [
    "import json\n",
    "import requests\n",
    "import pandas as pd\n",
    "\n",
    "# URL of the Route API call in driving profile\n",
    "routing_API_Driving_url = 'https://apis.mapmyindia.com/advancedmaps/v1/3q7gfp72nrkhdjvi19p43hp78f5k36vh/route_adv/driving/'\n",
    "\n",
    "# Define the parameters for the API request\n",
    "params = {\n",
    "    'geometries': 'polyline6',\n",
    "    'overview': 'full'\n",
    "}\n",
    "\n",
    "coordinates = f\"72.0223,23.495345;73.819012,18.592923?\"\n",
    "\n",
    "\n",
    "routing_API_response = requests.get(routing_API_Driving_url + coordinates, params=params)\n",
    "\n",
    "routing_API_data = routing_API_response.json()\n",
    "\n",
    "# # This file to save the entire  response from the API into a text file\n",
    "# filename = f\"Output_route.txt\"\n",
    "# with open(filename, 'w', encoding='utf-8') as text_file:\n",
    "#     text_file.write(json.dumps(routing_API_data, ensure_ascii=False))\n",
    "\n",
    "\n",
    "df = pd.DataFrame(['Geometry_save'])\n",
    "\n",
    "df.loc[0,'Geometry_save'] = json.dumps(routing_API_data['routes'][0]['geometry'], ensure_ascii=False).replace('\"', '')\n",
    "\n",
    "#This file is saved to check the output of this trial\n",
    "filename = f\"route_Geometry_test.txt\"\n",
    "with open(filename, 'w', encoding='utf-8') as text_file:\n",
    "    text_file.write(df.loc[0,'Geometry_save'])"
   ]
  },
  {
   "cell_type": "markdown",
   "metadata": {},
   "source": [
    "Now we will try to add and encoded polyline to the Map"
   ]
  },
  {
   "cell_type": "code",
   "execution_count": 7,
   "metadata": {},
   "outputs": [
    {
     "data": {
      "text/html": [
       "<div style=\"width:100%;\"><div style=\"position:relative;width:100%;height:0;padding-bottom:60%;\"><span style=\"color:#565656\">Make this Notebook Trusted to load map: File -> Trust Notebook</span><iframe srcdoc=\"&lt;!DOCTYPE html&gt;\n",
       "&lt;html&gt;\n",
       "&lt;head&gt;\n",
       "    \n",
       "    &lt;meta http-equiv=&quot;content-type&quot; content=&quot;text/html; charset=UTF-8&quot; /&gt;\n",
       "    \n",
       "        &lt;script&gt;\n",
       "            L_NO_TOUCH = false;\n",
       "            L_DISABLE_3D = false;\n",
       "        &lt;/script&gt;\n",
       "    \n",
       "    &lt;style&gt;html, body {width: 100%;height: 100%;margin: 0;padding: 0;}&lt;/style&gt;\n",
       "    &lt;style&gt;#map {position:absolute;top:0;bottom:0;right:0;left:0;}&lt;/style&gt;\n",
       "    &lt;script src=&quot;https://cdn.jsdelivr.net/npm/leaflet@1.9.3/dist/leaflet.js&quot;&gt;&lt;/script&gt;\n",
       "    &lt;script src=&quot;https://code.jquery.com/jquery-3.7.1.min.js&quot;&gt;&lt;/script&gt;\n",
       "    &lt;script src=&quot;https://cdn.jsdelivr.net/npm/bootstrap@5.2.2/dist/js/bootstrap.bundle.min.js&quot;&gt;&lt;/script&gt;\n",
       "    &lt;script src=&quot;https://cdnjs.cloudflare.com/ajax/libs/Leaflet.awesome-markers/2.0.2/leaflet.awesome-markers.js&quot;&gt;&lt;/script&gt;\n",
       "    &lt;link rel=&quot;stylesheet&quot; href=&quot;https://cdn.jsdelivr.net/npm/leaflet@1.9.3/dist/leaflet.css&quot;/&gt;\n",
       "    &lt;link rel=&quot;stylesheet&quot; href=&quot;https://cdn.jsdelivr.net/npm/bootstrap@5.2.2/dist/css/bootstrap.min.css&quot;/&gt;\n",
       "    &lt;link rel=&quot;stylesheet&quot; href=&quot;https://netdna.bootstrapcdn.com/bootstrap/3.0.0/css/bootstrap-glyphicons.css&quot;/&gt;\n",
       "    &lt;link rel=&quot;stylesheet&quot; href=&quot;https://cdn.jsdelivr.net/npm/@fortawesome/fontawesome-free@6.2.0/css/all.min.css&quot;/&gt;\n",
       "    &lt;link rel=&quot;stylesheet&quot; href=&quot;https://cdnjs.cloudflare.com/ajax/libs/Leaflet.awesome-markers/2.0.2/leaflet.awesome-markers.css&quot;/&gt;\n",
       "    &lt;link rel=&quot;stylesheet&quot; href=&quot;https://cdn.jsdelivr.net/gh/python-visualization/folium/folium/templates/leaflet.awesome.rotate.min.css&quot;/&gt;\n",
       "    \n",
       "            &lt;meta name=&quot;viewport&quot; content=&quot;width=device-width,\n",
       "                initial-scale=1.0, maximum-scale=1.0, user-scalable=no&quot; /&gt;\n",
       "            &lt;style&gt;\n",
       "                #map_9658e6abb73405b36c0ef3f45549ce18 {\n",
       "                    position: relative;\n",
       "                    width: 100.0%;\n",
       "                    height: 100.0%;\n",
       "                    left: 0.0%;\n",
       "                    top: 0.0%;\n",
       "                }\n",
       "                .leaflet-container { font-size: 1rem; }\n",
       "            &lt;/style&gt;\n",
       "        \n",
       "    &lt;script src=&quot;https://cdn.jsdelivr.net/npm/polyline-encoded@0.0.9/Polyline.encoded.js&quot;&gt;&lt;/script&gt;\n",
       "&lt;/head&gt;\n",
       "&lt;body&gt;\n",
       "    \n",
       "    \n",
       "            &lt;div class=&quot;folium-map&quot; id=&quot;map_9658e6abb73405b36c0ef3f45549ce18&quot; &gt;&lt;/div&gt;\n",
       "        \n",
       "&lt;/body&gt;\n",
       "&lt;script&gt;\n",
       "    \n",
       "    \n",
       "            var map_9658e6abb73405b36c0ef3f45549ce18 = L.map(\n",
       "                &quot;map_9658e6abb73405b36c0ef3f45549ce18&quot;,\n",
       "                {\n",
       "                    center: [0.0, 0.0],\n",
       "                    crs: L.CRS.EPSG3857,\n",
       "                    zoom: 1,\n",
       "                    zoomControl: true,\n",
       "                    preferCanvas: false,\n",
       "                }\n",
       "            );\n",
       "\n",
       "            \n",
       "\n",
       "        \n",
       "    \n",
       "            var tile_layer_2d3821f819bce90832e8cdd591551a7f = L.tileLayer(\n",
       "                &quot;https://tile.openstreetmap.org/{z}/{x}/{y}.png&quot;,\n",
       "                {&quot;attribution&quot;: &quot;\\u0026copy; \\u003ca href=\\&quot;https://www.openstreetmap.org/copyright\\&quot;\\u003eOpenStreetMap\\u003c/a\\u003e contributors&quot;, &quot;detectRetina&quot;: false, &quot;maxNativeZoom&quot;: 19, &quot;maxZoom&quot;: 19, &quot;minZoom&quot;: 0, &quot;noWrap&quot;: false, &quot;opacity&quot;: 1, &quot;subdomains&quot;: &quot;abc&quot;, &quot;tms&quot;: false}\n",
       "            );\n",
       "        \n",
       "    \n",
       "            tile_layer_2d3821f819bce90832e8cdd591551a7f.addTo(map_9658e6abb73405b36c0ef3f45549ce18);\n",
       "        \n",
       "    \n",
       "\n",
       "            var macro_element_fa01ddef3a02f43ec41d153e76277ad6 = L.Polyline.fromEncoded(\n",
       "                &quot;ymdkWgqstrCtEbDwAhC{I_G{d@kZyd@mZ{d@kZyd@mZ{d@kZg`@oUe`@mUqg@kZq`@sTeAe@kA[gB@_Cx@g\\\\\\\\nSg\\\\\\\\nSce@tXgI|Ewe@dYyg@~Zyg@~ZkQvKoOnIkb@zVwSxMsZnQsh@`\\\\\\\\sh@b\\\\\\\\wBvAom@d_@_MrHeg@rZeg@tZue@hYue@hYue@hY{MjGwGtBaMpCiNfBgUlAqq@x@wb@r@{d@bAyd@dA}&quot;,\n",
       "                {&quot;bubblingMouseEvents&quot;: true, &quot;color&quot;: &quot;green&quot;, &quot;dashArray&quot;: null, &quot;dashOffset&quot;: null, &quot;fill&quot;: false, &quot;fillColor&quot;: &quot;green&quot;, &quot;fillOpacity&quot;: 0.2, &quot;fillRule&quot;: &quot;evenodd&quot;, &quot;lineCap&quot;: &quot;round&quot;, &quot;lineJoin&quot;: &quot;round&quot;, &quot;noClip&quot;: false, &quot;opacity&quot;: 1.0, &quot;smoothFactor&quot;: 1.0, &quot;stroke&quot;: true, &quot;weight&quot;: 3}\n",
       "            ).addTo(map_9658e6abb73405b36c0ef3f45549ce18);\n",
       "\n",
       "        \n",
       "&lt;/script&gt;\n",
       "&lt;/html&gt;\" style=\"position:absolute;width:100%;height:100%;left:0;top:0;border:none !important;\" allowfullscreen webkitallowfullscreen mozallowfullscreen></iframe></div></div>"
      ],
      "text/plain": [
       "<folium.folium.Map at 0x2396f2ce420>"
      ]
     },
     "metadata": {},
     "output_type": "display_data"
    }
   ],
   "source": [
    "from folium import Map\n",
    "from folium.plugins import PolyLineFromEncoded\n",
    "\n",
    "m = Map()\n",
    "\n",
    "polyline_file = \"GeometryCreatedwithRouteAPI/DrivingGeometry/1_drivingRoute.txt\"\n",
    "\n",
    "# with open(polyline_file, 'r') as f:\n",
    "#     encoded = f.read().strip()\n",
    "\n",
    "# print(encoded)\n",
    "\n",
    "encoded = r\"ymdkWgqstrCtEbDwAhC{I_G{d@kZyd@mZ{d@kZyd@mZ{d@kZg`@oUe`@mUqg@kZq`@sTeAe@kA[gB@_Cx@g\\\\nSg\\\\nSce@tXgI|Ewe@dYyg@~Zyg@~ZkQvKoOnIkb@zVwSxMsZnQsh@`\\\\sh@b\\\\wBvAom@d_@_MrHeg@rZeg@tZue@hYue@hYue@hY{MjGwGtBaMpCiNfBgUlAqq@x@wb@r@{d@bAyd@dA}\"\n",
    "PolyLineFromEncoded(encoded=encoded, color=\"green\").add_to(m)\n",
    "\n",
    "display(m)"
   ]
  }
 ],
 "metadata": {
  "kernelspec": {
   "display_name": "base",
   "language": "python",
   "name": "python3"
  },
  "language_info": {
   "codemirror_mode": {
    "name": "ipython",
    "version": 3
   },
   "file_extension": ".py",
   "mimetype": "text/x-python",
   "name": "python",
   "nbconvert_exporter": "python",
   "pygments_lexer": "ipython3",
   "version": "3.12.1"
  }
 },
 "nbformat": 4,
 "nbformat_minor": 2
}
