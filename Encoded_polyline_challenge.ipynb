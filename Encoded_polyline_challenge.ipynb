{
 "cells": [
  {
   "cell_type": "markdown",
   "metadata": {},
   "source": [
    "Faced alot of issue with the Encoded polylines. These polylines will contain \"\\\\\" and Python treat it them escape character, which mean when I try to save it in dataframe or in any form all the \"\\\\\" will get replaced with \"\\\". This is a huge problem, becuase this changes the entire meaning and decoded coordinates of the encoded string. The encoded geometry should be as it is received from the API otherwise the further analysis will not be accurate. This Geometry will act as input for other APIs\n",
    "\n",
    "After alot of hit and trials, finally solved it using the \"json.dump()\" method, which dump the string in varible as it is. "
   ]
  },
  {
   "cell_type": "code",
   "execution_count": null,
   "metadata": {},
   "outputs": [],
   "source": [
    "# This is the example\n",
    "new_string = \"@g\\\\nSg\\\\nSce@tXgI|Ewe@dYyg@~Zyg@~ZkQvKoOnIkb@zVwSxMsZnQsh@`\\\\sh@b\\\\wBvAom@d\"\n",
    "\n",
    "# The saved string and print string a different\n",
    "print(new_string)"
   ]
  },
  {
   "cell_type": "markdown",
   "metadata": {},
   "source": [
    "Another way to solve it is using the raw string, \n"
   ]
  },
  {
   "cell_type": "code",
   "execution_count": null,
   "metadata": {},
   "outputs": [],
   "source": [
    "new_string = r\"@g\\\\nSg\\\\nSce@tXgI|Ewe@dYyg@~Zyg@~ZkQvKoOnIkb@zVwSxMsZnQsh@`\\\\sh@b\\\\wBvAom@d\" \n",
    "print(new_string)\n",
    "\n",
    "\n",
    "#So tried this approach as well, but did now work, the \"\\\\\" were still getting replaced with \"\\\"\n",
    "\n",
    "# Assuming routing_API_data['routes'][0]['geometry'] contains \"\\\\\" characters\n",
    "geometry_raw = r\"{}\".format(routing_API_data['routes'][0]['geometry'])\n",
    "\n",
    "# Assigning the raw string representation to the DataFrame\n",
    "input_from_client.loc[index, 'New_Driving_Geometry'] = geometry_raw\n"
   ]
  },
  {
   "cell_type": "markdown",
   "metadata": {},
   "source": [
    "But this did not work with saving the vales of JSON received from API, finall this is the approach that worked\n"
   ]
  },
  {
   "cell_type": "code",
   "execution_count": 1,
   "metadata": {},
   "outputs": [],
   "source": [
    "import json\n",
    "import requests\n",
    "import pandas as pd\n",
    "\n",
    "# URL of the Route API call in driving profile\n",
    "routing_API_Driving_url = 'https://apis.mapmyindia.com/advancedmaps/v1/3q7gfp72nrkhdjvi19p43hp78f5k36vh/route_adv/driving/'\n",
    "\n",
    "# Define the parameters for the API request\n",
    "params = {\n",
    "    'geometries': 'polyline6',\n",
    "    'overview': 'full'\n",
    "}\n",
    "\n",
    "coordinates = f\"72.0223,23.495345;73.819012,18.592923?\"\n",
    "\n",
    "\n",
    "routing_API_response = requests.get(routing_API_Driving_url + coordinates, params=params)\n",
    "\n",
    "routing_API_data = routing_API_response.json()\n",
    "\n",
    "# # This file to save the entire  response from the API into a text file\n",
    "# filename = f\"Output_route.txt\"\n",
    "# with open(filename, 'w', encoding='utf-8') as text_file:\n",
    "#     text_file.write(json.dumps(routing_API_data, ensure_ascii=False))\n",
    "\n",
    "\n",
    "df = pd.DataFrame(['Geometry_save'])\n",
    "\n",
    "df.loc[0,'Geometry_save'] = json.dumps(routing_API_data['routes'][0]['geometry'], ensure_ascii=False).replace('\"', '')\n",
    "\n",
    "#This file is saved to check the output of this trial\n",
    "filename = f\"route_Geometry_test.txt\"\n",
    "with open(filename, 'w', encoding='utf-8') as text_file:\n",
    "    text_file.write(df.loc[0,'Geometry_save'])"
   ]
  }
 ],
 "metadata": {
  "kernelspec": {
   "display_name": "base",
   "language": "python",
   "name": "python3"
  },
  "language_info": {
   "codemirror_mode": {
    "name": "ipython",
    "version": 3
   },
   "file_extension": ".py",
   "mimetype": "text/x-python",
   "name": "python",
   "nbconvert_exporter": "python",
   "pygments_lexer": "ipython3",
   "version": "3.12.1"
  }
 },
 "nbformat": 4,
 "nbformat_minor": 2
}
