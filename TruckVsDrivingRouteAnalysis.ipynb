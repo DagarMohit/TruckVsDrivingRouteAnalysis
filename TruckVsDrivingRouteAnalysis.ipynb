{
 "cells": [
  {
   "cell_type": "code",
   "execution_count": 24,
   "metadata": {},
   "outputs": [],
   "source": [
    "import os\n",
    "import pandas as pd\n",
    "import requests"
   ]
  },
  {
   "cell_type": "markdown",
   "metadata": {},
   "source": [
    "We will read the input excel file that we got  from client. this file has the start and end geocoordinates of the different plants. We have to assess different route between these plants"
   ]
  },
  {
   "cell_type": "markdown",
   "metadata": {},
   "source": []
  },
  {
   "cell_type": "code",
   "execution_count": 25,
   "metadata": {},
   "outputs": [],
   "source": [
    "input_from_client = pd.read_excel(r'C:\\Users\\Mohit\\Desktop\\Code\\Projects\\TruckVsDrivingRouteAnalysis\\Input_from_client.xlsx')"
   ]
  },
  {
   "cell_type": "code",
   "execution_count": 26,
   "metadata": {},
   "outputs": [
    {
     "data": {
      "text/html": [
       "<div>\n",
       "<style scoped>\n",
       "    .dataframe tbody tr th:only-of-type {\n",
       "        vertical-align: middle;\n",
       "    }\n",
       "\n",
       "    .dataframe tbody tr th {\n",
       "        vertical-align: top;\n",
       "    }\n",
       "\n",
       "    .dataframe thead th {\n",
       "        text-align: right;\n",
       "    }\n",
       "</style>\n",
       "<table border=\"1\" class=\"dataframe\">\n",
       "  <thead>\n",
       "    <tr style=\"text-align: right;\">\n",
       "      <th></th>\n",
       "      <th>uid</th>\n",
       "      <th>start</th>\n",
       "      <th>end</th>\n",
       "      <th>start_lat</th>\n",
       "      <th>start_lon</th>\n",
       "      <th>end_lat</th>\n",
       "      <th>end_lon</th>\n",
       "    </tr>\n",
       "  </thead>\n",
       "  <tbody>\n",
       "    <tr>\n",
       "      <th>0</th>\n",
       "      <td>1</td>\n",
       "      <td>Bidadi</td>\n",
       "      <td>Ambikapur</td>\n",
       "      <td>12.782286</td>\n",
       "      <td>77.424975</td>\n",
       "      <td>23.112297</td>\n",
       "      <td>83.182082</td>\n",
       "    </tr>\n",
       "    <tr>\n",
       "      <th>1</th>\n",
       "      <td>2</td>\n",
       "      <td>Bidadi</td>\n",
       "      <td>Bhilai</td>\n",
       "      <td>12.782286</td>\n",
       "      <td>77.424975</td>\n",
       "      <td>21.208241</td>\n",
       "      <td>81.379906</td>\n",
       "    </tr>\n",
       "    <tr>\n",
       "      <th>2</th>\n",
       "      <td>3</td>\n",
       "      <td>Bidadi</td>\n",
       "      <td>Raipur</td>\n",
       "      <td>12.782286</td>\n",
       "      <td>77.424975</td>\n",
       "      <td>21.219474</td>\n",
       "      <td>81.631294</td>\n",
       "    </tr>\n",
       "    <tr>\n",
       "      <th>3</th>\n",
       "      <td>4</td>\n",
       "      <td>Becharaji Plant</td>\n",
       "      <td>JHANSI</td>\n",
       "      <td>23.495345</td>\n",
       "      <td>72.022300</td>\n",
       "      <td>25.445902</td>\n",
       "      <td>78.589940</td>\n",
       "    </tr>\n",
       "    <tr>\n",
       "      <th>4</th>\n",
       "      <td>5</td>\n",
       "      <td>Becharaji Plant</td>\n",
       "      <td>SHAHDOL - JBP</td>\n",
       "      <td>23.495345</td>\n",
       "      <td>72.022300</td>\n",
       "      <td>23.302021</td>\n",
       "      <td>81.369715</td>\n",
       "    </tr>\n",
       "  </tbody>\n",
       "</table>\n",
       "</div>"
      ],
      "text/plain": [
       "   uid            start            end  start_lat  start_lon    end_lat  \\\n",
       "0    1           Bidadi      Ambikapur  12.782286  77.424975  23.112297   \n",
       "1    2           Bidadi         Bhilai  12.782286  77.424975  21.208241   \n",
       "2    3           Bidadi         Raipur  12.782286  77.424975  21.219474   \n",
       "3    4  Becharaji Plant         JHANSI  23.495345  72.022300  25.445902   \n",
       "4    5  Becharaji Plant  SHAHDOL - JBP  23.495345  72.022300  23.302021   \n",
       "\n",
       "     end_lon  \n",
       "0  83.182082  \n",
       "1  81.379906  \n",
       "2  81.631294  \n",
       "3  78.589940  \n",
       "4  81.369715  "
      ]
     },
     "execution_count": 26,
     "metadata": {},
     "output_type": "execute_result"
    }
   ],
   "source": [
    "input_from_client.head()\n",
    "# input_from_client.info()"
   ]
  },
  {
   "cell_type": "markdown",
   "metadata": {},
   "source": [
    "Now we will make different Route API call with Driving and Trucking profile to chech how different these 2 profiles are "
   ]
  },
  {
   "cell_type": "code",
   "execution_count": 32,
   "metadata": {},
   "outputs": [],
   "source": [
    "# # Define the base URL for the API\n",
    "# routing_API_url = 'https://apis.mapmyindia.com/advancedmaps/v1/3q7gfp72nrkhdjvi19p43hp78f5k36vh/route_eta/driving/'\n",
    "                  \n",
    "\n",
    "# # Define the coordinates for the route\n",
    "# coordinates = '77.424975,12.782286;83.182082,23.112297'\n",
    "\n",
    "# # Define the parameters for the API request\n",
    "# params = {\n",
    "#     'geometries': 'polyline6',\n",
    "#     'overview': 'full'\n",
    "# }\n",
    "\n",
    "# # Send the API request and store the response\n",
    "# routing_API_response = requests.get(routing_API_url + coordinates, params=params)\n",
    "\n",
    "# routing_API_data = routing_API_response.json()\n",
    "\n",
    "# # print(routing_API_data['routes']['geometry']\n",
    "# print(routing_API_data['routes'][0]['geometry'])\n",
    "\n",
    "# print(routing_API_data['routes'][0]['duration'])\n",
    "# print(routing_API_data['routes'][0]['distance'])\n"
   ]
  },
  {
   "cell_type": "code",
   "execution_count": 33,
   "metadata": {},
   "outputs": [],
   "source": [
    "# # URL of the Route API call in driving profile\n",
    "# routing_API_Driving_url = 'https://apis.mapmyindia.com/advancedmaps/v1/3q7gfp72nrkhdjvi19p43hp78f5k36vh/route_eta/driving/'\n",
    "\n",
    "# # Define the parameters for the API request\n",
    "# params = {\n",
    "#     'geometries': 'polyline6',\n",
    "#     'overview': 'full'\n",
    "# }\n",
    "\n",
    "# for index in input_from_client.index:\n",
    "    \n",
    "#     coordinates = str(input_from_client.at[index,'start_lon']) + ',' + str(input_from_client.at[index,'start_lat']) + ';' + str(input_from_client.at[index,'end_lon']) + ',' + str(input_from_client.at[index,'end_lat'])+ '?'\n",
    "\n",
    "#     routing_API_response = requests.get(routing_API_Driving_url + coordinates, params=params)\n",
    "\n",
    "#     try:\n",
    "\n",
    "#         routing_API_data = routing_API_response.json()\n",
    "\n",
    "#         input_from_client.loc[index, 'Duration(s)'] = routing_API_data['routes'][0]['duration']\n",
    "#         input_from_client.loc[index, 'Distance(m)'] = routing_API_data['routes'][0]['distance']\n",
    "#         input_from_client.loc[index, 'Driving Geometry'] = routing_API_data['routes'][0]['geometry']\n",
    "\n",
    "#         print('The API call for request {index} was  successful'.format(index=index))\n",
    "    \n",
    "#     except:\n",
    "#         print('There was an error with the API call for request {index}'} .format(index=index))\n"
   ]
  },
  {
   "cell_type": "code",
   "execution_count": null,
   "metadata": {},
   "outputs": [],
   "source": [
    "# URL of the Route API call in driving profile\n",
    "routing_API_Driving_url = 'https://apis.mapmyindia.com/advancedmaps/v1/3q7gfp72nrkhdjvi19p43hp78f5k36vh/route_adv/driving/'\n",
    "\n",
    "# Define the parameters for the API request\n",
    "params = {\n",
    "    'geometries': 'polyline6',\n",
    "    'overview': 'full'\n",
    "}\n",
    "\n",
    "for index, row in input_from_client.iterrows():\n",
    "    \n",
    "    coordinates = f\"{row['start_lon']},{row['start_lat']};{row['end_lon']},{row['end_lat']}?\"\n",
    "    print(coordinates)\n",
    "\n",
    "    routing_API_response = requests.get(routing_API_Driving_url + coordinates, params=params)\n",
    "\n",
    "    try:\n",
    "        routing_API_data = routing_API_response.json()\n",
    "        input_from_client.loc[index, 'Driving_Duration(s)'] = routing_API_data['routes'][0]['duration']\n",
    "        input_from_client.loc[index, 'Driving_Distance(m)'] = routing_API_data['routes'][0]['distance']\n",
    "        input_from_client.loc[index, 'Driving_Geometry'] = routing_API_data['routes'][0]['geometry']\n",
    "\n",
    "        # filename = f\"{index}.txt\"\n",
    "        # with open(filename, 'w', encoding='utf-8') as text_file:\n",
    "        #     text_file.write(routing_API_data['routes'][0]['geometry'])\n",
    "\n",
    "        # Assuming routing_API_data['routes'][0]['geometry'] contains \"\\\\\" characters\n",
    "        geometry_raw = r\"{}\".format(routing_API_data['routes'][0]['geometry'])\n",
    "\n",
    "        # Assigning the raw string representation to the DataFrame\n",
    "        input_from_client.loc[index, 'New_Driving_Geometry'] = geometry_raw\n",
    "\n",
    "\n",
    "        print(f\"The API call for request {index} was successful\")\n",
    "    except:\n",
    "        print(f\"There was an error with the API call for request {index}\")\n",
    "\n",
    "\n",
    "input_from_client.head()"
   ]
  },
  {
   "cell_type": "code",
   "execution_count": 28,
   "metadata": {},
   "outputs": [
    {
     "name": "stdout",
     "output_type": "stream",
     "text": [
      "128316\n",
      "128316\n"
     ]
    }
   ],
   "source": [
    "# print(input_from_client.loc[0,'Driving_Geometry'])\n",
    "input_from_client.head()\n",
    "\n",
    "print(len(input_from_client.loc[0,'Driving_Geometry']))\n",
    "print(len(input_from_client.loc[0,'New_Driving_Geometry']))\n",
    "\n",
    "\n"
   ]
  },
  {
   "cell_type": "code",
   "execution_count": 7,
   "metadata": {},
   "outputs": [],
   "source": [
    "filename = f\"Escaped.txt\"\n",
    "with open(filename, 'w', encoding='utf-8') as text_file:\n",
    "    text_file.write(input_from_client.loc[0,'Driving_Geometry'])"
   ]
  },
  {
   "cell_type": "code",
   "execution_count": 29,
   "metadata": {},
   "outputs": [],
   "source": [
    "filename2 = f\"unescapped.txt\"\n",
    "with open(filename2, 'w', encoding='utf-8') as text_file:\n",
    "    text_file.write(input_from_client.loc[0,'New_Driving_Geometry'])"
   ]
  },
  {
   "cell_type": "code",
   "execution_count": 13,
   "metadata": {},
   "outputs": [],
   "source": [
    "new_string = r\"@g\\\\nSg\\\\nSce@tXgI|Ewe@dYyg@~Zyg@~ZkQvKoOnIkb@zVwSxMsZnQsh@`\\\\sh@b\\\\wBvAom@d\"\n"
   ]
  },
  {
   "cell_type": "code",
   "execution_count": 14,
   "metadata": {},
   "outputs": [
    {
     "name": "stdout",
     "output_type": "stream",
     "text": [
      "@g\\\\nSg\\\\nSce@tXgI|Ewe@dYyg@~Zyg@~ZkQvKoOnIkb@zVwSxMsZnQsh@`\\\\sh@b\\\\wBvAom@d\n"
     ]
    }
   ],
   "source": [
    "print(new_string)"
   ]
  }
 ],
 "metadata": {
  "kernelspec": {
   "display_name": "base",
   "language": "python",
   "name": "python3"
  },
  "language_info": {
   "codemirror_mode": {
    "name": "ipython",
    "version": 3
   },
   "file_extension": ".py",
   "mimetype": "text/x-python",
   "name": "python",
   "nbconvert_exporter": "python",
   "pygments_lexer": "ipython3",
   "version": "3.12.1"
  }
 },
 "nbformat": 4,
 "nbformat_minor": 2
}
